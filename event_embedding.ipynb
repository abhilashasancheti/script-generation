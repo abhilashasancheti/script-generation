{
 "cells": [
  {
   "cell_type": "code",
   "execution_count": 34,
   "metadata": {},
   "outputs": [],
   "source": [
    "from sentence_transformers import SentenceTransformer\n",
    "from scipy import spatial\n",
    "from bs4 import BeautifulSoup\n",
    "import re\n",
    "import json\n",
    "import numpy as np"
   ]
  },
  {
   "cell_type": "code",
   "execution_count": 2,
   "metadata": {},
   "outputs": [
    {
     "name": "stderr",
     "output_type": "stream",
     "text": [
      "100%|██████████| 405M/405M [00:29<00:00, 13.7MB/s]\n"
     ]
    }
   ],
   "source": [
    "embedder = SentenceTransformer('bert-base-nli-mean-tokens')"
   ]
  },
  {
   "cell_type": "code",
   "execution_count": 42,
   "metadata": {},
   "outputs": [],
   "source": [
    "def get_embeddings(events, embedder):\n",
    "    # Corpus with sentence embeddings\n",
    "    corpus_embeddings = embedder.encode(events)\n",
    "    return corpus_embeddings\n",
    "\n",
    "def calc_centriod(events, embedder):\n",
    "    emds = get_embeddings(events, embedder)\n",
    "    return (emds, np.array(np.mean(emds, axis=0)))\n",
    "\n",
    "def calc_min(events, centriod):\n",
    "    sim = []\n",
    "    for e in events:\n",
    "        sim.append((1 - spatial.distance.cosine(e, centriod)))\n",
    "    return min(sim)\n",
    "\n",
    "def event_sim(events):\n",
    "    sim = []\n",
    "    if len(events)<2:\n",
    "        return 0\n",
    "    for i in range(len(events)):\n",
    "        for j in range(i+1,len(events)):\n",
    "            sim.append((1 - spatial.distance.cosine(events[i], events[j])))\n",
    "    return min(sim)    "
   ]
  },
  {
   "cell_type": "code",
   "execution_count": 5,
   "metadata": {},
   "outputs": [],
   "source": [
    "with open('paraphrase.json') as f:\n",
    "    scenarios = json.load(f)"
   ]
  },
  {
   "cell_type": "code",
   "execution_count": 45,
   "metadata": {},
   "outputs": [],
   "source": [
    "scenario_emd = {}\n",
    "for scene in scenarios:\n",
    "    scenario_emd[scene] = {}\n",
    "    for label in scenarios[scene]:\n",
    "        scenario_emd[scene][label] = {}\n",
    "        emds, centriod = calc_centriod(scenarios[scene][label], embedder)\n",
    "        scenario_emd[scene][label][\"mean\"] = centriod\n",
    "        scenario_emd[scene][label][\"min\"] = calc_min(emds, centriod)"
   ]
  },
  {
   "cell_type": "code",
   "execution_count": 57,
   "metadata": {},
   "outputs": [],
   "source": [
    "def relevance_metric(in_path, scenario_emd):\n",
    "    with open(in_path) as f:\n",
    "        lines = f.readlines()\n",
    "        precision = []\n",
    "        for scenario in lines:\n",
    "            splitted = scenario.split(\":\")\n",
    "            scenario = splitted[1].rstrip(' <EOS>')\n",
    "            script = splitted[0].strip().replace(\"<BOS> here is a sequence of events that happen while \",\"\")\n",
    "            new_scenario = script + \": \"\n",
    "            scenario = re.sub(r'\\d+[.]', '</bevent> <bevent>', scenario)\n",
    "            scenario = scenario + '</bevent>'\n",
    "            scenario = scenario.strip().lstrip('</bevent>')\n",
    "            soup = BeautifulSoup(scenario)\n",
    "            events = []\n",
    "            for a in soup.find_all('bevent'):\n",
    "                events.append(a.string.strip())\n",
    "            \n",
    "            correct = 0 \n",
    "            events_emd = get_embeddings(events, embedder)\n",
    "            max_label = \"\"\n",
    "            max_sim = 0\n",
    "            for i in range(len(events)):\n",
    "                for label in scenario_emd[script]:\n",
    "                    sim = 1 - spatial.distance.cosine(events_emd[i], scenario_emd[script][label][\"mean\"])\n",
    "                    if sim > max_sim:\n",
    "                        max_sim = sim\n",
    "                        max_label = label\n",
    "                if max_sim >= scenario_emd[script][max_label][\"min\"]:\n",
    "                    #print(script, max_label, events[i])\n",
    "                    correct+=1\n",
    "                else:\n",
    "                    pass#print(script, max_label, events[i])\n",
    "            precision.append(correct*1.0/len(events))\n",
    "        return precision"
   ]
  },
  {
   "cell_type": "code",
   "execution_count": 56,
   "metadata": {},
   "outputs": [],
   "source": [
    "precision = relevance_metric(\"./outputs/generated_valid_basic_large_g16_epoch1.txt\", scenario_emd)"
   ]
  },
  {
   "cell_type": "code",
   "execution_count": 55,
   "metadata": {},
   "outputs": [
    {
     "data": {
      "text/plain": [
       "(0.8172727272727272, 0.29961798450546734)"
      ]
     },
     "execution_count": 55,
     "metadata": {},
     "output_type": "execute_result"
    }
   ],
   "source": [
    "np.mean(precision), np.std(precision)"
   ]
  },
  {
   "cell_type": "code",
   "execution_count": null,
   "metadata": {},
   "outputs": [],
   "source": []
  },
  {
   "cell_type": "code",
   "execution_count": null,
   "metadata": {},
   "outputs": [],
   "source": []
  }
 ],
 "metadata": {
  "kernelspec": {
   "display_name": "env_fairseq",
   "language": "python",
   "name": "env_fairseq"
  },
  "language_info": {
   "codemirror_mode": {
    "name": "ipython",
    "version": 3
   },
   "file_extension": ".py",
   "mimetype": "text/x-python",
   "name": "python",
   "nbconvert_exporter": "python",
   "pygments_lexer": "ipython3",
   "version": "3.6.8"
  }
 },
 "nbformat": 4,
 "nbformat_minor": 2
}
